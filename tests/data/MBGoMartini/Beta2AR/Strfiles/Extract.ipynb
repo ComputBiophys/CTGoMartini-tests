{
 "cells": [
  {
   "cell_type": "code",
   "execution_count": 1,
   "metadata": {},
   "outputs": [
    {
     "name": "stderr",
     "output_type": "stream",
     "text": [
      "/home/ys/anaconda3/lib/python3.8/site-packages/MDAnalysis/coordinates/chemfiles.py:108: DeprecationWarning: distutils Version classes are deprecated. Use packaging.version instead.\n",
      "  MIN_CHEMFILES_VERSION = LooseVersion(\"0.9\")\n",
      "/home/ys/anaconda3/lib/python3.8/site-packages/MDAnalysis/coordinates/TRJ.py:1209: DeprecationWarning: Please use `netcdf_file` from the `scipy.io` namespace, the `scipy.io.netcdf` namespace is deprecated.\n",
      "  class NCDFPicklable(scipy.io.netcdf.netcdf_file):\n"
     ]
    }
   ],
   "source": [
    "import os\n",
    "import subprocess\n",
    "import MDAnalysis as mda\n",
    "import numpy as np"
   ]
  },
  {
   "cell_type": "code",
   "execution_count": 2,
   "metadata": {},
   "outputs": [
    {
     "name": "stderr",
     "output_type": "stream",
     "text": [
      "/home/ys/anaconda3/lib/python3.8/site-packages/MDAnalysis/topology/PDBParser.py:317: UserWarning: Element information is missing, elements attribute will not be populated. If needed these can be guessed using MDAnalysis.topology.guessers.\n",
      "  warnings.warn(\"Element information is missing, elements attribute \"\n",
      "/home/ys/anaconda3/lib/python3.8/site-packages/MDAnalysis/topology/guessers.py:146: UserWarning: Failed to guess the mass for the following atom types: D\n",
      "  warnings.warn(\"Failed to guess the mass for the following atom types: {}\".format(atom_type))\n",
      "/home/ys/anaconda3/lib/python3.8/site-packages/MDAnalysis/topology/guessers.py:146: UserWarning: Failed to guess the mass for the following atom types: G\n",
      "  warnings.warn(\"Failed to guess the mass for the following atom types: {}\".format(atom_type))\n"
     ]
    },
    {
     "name": "stdout",
     "output_type": "stream",
     "text": [
      "40001\n",
      "40001\n",
      "33846 8.103084564208984 8.103084564208984\n",
      "29241 9.172789573669434 9.173453225029839\n",
      "21709 10.244023323059082 10.243821885850695\n",
      "26981 11.344161987304688 11.31419054667155\n",
      "3088 12.382648468017578 12.384559207492405\n",
      "18617 13.45547866821289 13.45492786831326\n",
      "7650 14.525154113769531 14.525296529134115\n",
      "13548 15.595829963684082 15.595665189954971\n",
      "6592 16.67243194580078 16.666033850775825\n",
      "6551 17.73640251159668 17.73640251159668\n"
     ]
    }
   ],
   "source": [
    "# Extract the suitable strfiles\n",
    "# Data\n",
    "data_path = '/home/ys/SongYang2/GoMartini3/Beta2AR/Martini/Data/repeat-7'\n",
    "strfile = os.path.join(data_path, \"md_start.pdb\")\n",
    "trjfile_processed = os.path.join(data_path, 'md_rottrans.xtc')\n",
    "trjfile_raw = os.path.join(data_path, \"md_whole.xtc\")\n",
    "\n",
    "# Extracting Process\n",
    "u_processed = mda.Universe(strfile, trjfile_processed)\n",
    "u_raw = mda.Universe(strfile, trjfile_raw)\n",
    "print(u_processed.trajectory.n_frames)\n",
    "print(u_raw.trajectory.n_frames)\n",
    "\n",
    "# Calculae the distance array\n",
    "def Distance_analysis(u):\n",
    "    sel1 = u.select_atoms('name BB and resid 131')\n",
    "    sel2 = u.select_atoms('name BB and resid 272')\n",
    "    data = []\n",
    "    for ts in u.trajectory:\n",
    "        dist = np.linalg.norm(sel1.positions-sel2.positions, axis=1)[0]\n",
    "        data.append([ts.frame, ts.time, dist])\n",
    "\n",
    "    return np.array(data)\n",
    "\n",
    "dist_array = Distance_analysis(u_processed)\n",
    "dist_min = dist_array[:,2].min()\n",
    "dist_max = dist_array[:,2].max()\n",
    "\n",
    "# Get the frame according to the distance\n",
    "frames_sel = []\n",
    "for dist in np.linspace(dist_min, dist_max, 10):\n",
    "    frame_sel = np.abs(dist_array[:,2] - dist).argmin()\n",
    "    frames_sel.append(frame_sel)\n",
    "    print(frame_sel, dist_array[frame_sel, 2], dist)\n",
    "\n",
    "# Write the gro file\n",
    "for i, frame in enumerate(frames_sel):\n",
    "    u_raw.trajectory[frame]\n",
    "    u_raw.atoms.write(f'Beta2AR_No{i}.gro')"
   ]
  },
  {
   "cell_type": "code",
   "execution_count": null,
   "metadata": {},
   "outputs": [],
   "source": [
    "def NPTProcess(strfile, top='system_Inactive.top'):\n",
    "    result = subprocess.run(f\"\"\"\n",
    "    gmx grompp -f em.mdp -c {strfile} -p {top} -o em.tpr -n index.ndx\n",
    "    gmx mdrun -deffnm em -v  -nt 8\n",
    "\n",
    "    gmx grompp -f npt.mdp -c em.gro -p {top} -o npt.tpr -r em.gro -n index.ndx\n",
    "    gmx mdrun -deffnm npt -v -nt 8\n",
    "\n",
    "    echo a_209 0|gmx trjconv -s npt.tpr -f npt.gro -o {strfile} -pbc atom -center -n index.ndx\n",
    "    echo 1 0|gmx trjconv -s npt.tpr -f {strfile} -o {strfile} -pbc mol -center -n index.ndx\n",
    "    rm *.edr em.gro  npt.gro *.log *.tpr *.trr *.cpt  *.xtc *.pdb npt.gro em.gro mdout.mdp\n",
    "    rm *#\n",
    "                \"\"\", shell=True, stdout=subprocess.PIPE, stderr=subprocess.PIPE)\n",
    "\n",
    "    if result.returncode == 0:\n",
    "        print(f\"{strfile} finished!\")\n",
    "        pass\n",
    "    else:\n",
    "        print(f\"Error: {strfile} Return code: {result.returncode}\")\n",
    "        print(\"Standard Output:\")\n",
    "        print(result.stdout.decode())\n",
    "        print(\"Standard Error:\")\n",
    "        print(result.stderr.decode())"
   ]
  },
  {
   "cell_type": "code",
   "execution_count": null,
   "metadata": {},
   "outputs": [],
   "source": []
  },
  {
   "cell_type": "code",
   "execution_count": 5,
   "metadata": {},
   "outputs": [
    {
     "name": "stdout",
     "output_type": "stream",
     "text": [
      "Beta2AR_No0.gro finished!\n",
      "Beta2AR_No1.gro finished!\n",
      "Beta2AR_No2.gro finished!\n",
      "Beta2AR_No3.gro finished!\n",
      "Beta2AR_No4.gro finished!\n",
      "Beta2AR_No5.gro finished!\n",
      "Beta2AR_No6.gro finished!\n",
      "Beta2AR_No7.gro finished!\n",
      "Beta2AR_No8.gro finished!\n",
      "Beta2AR_No9.gro finished!\n"
     ]
    }
   ],
   "source": [
    "# Set velocity (NPT process)\n",
    "for i, frame in enumerate(frames_sel):\n",
    "    NPTProcess(f'Beta2AR_No{i}.gro', top='system_Inactive.top')\n",
    "\n",
    "\n"
   ]
  },
  {
   "cell_type": "code",
   "execution_count": null,
   "metadata": {},
   "outputs": [],
   "source": []
  },
  {
   "cell_type": "code",
   "execution_count": 6,
   "metadata": {},
   "outputs": [
    {
     "ename": "NameError",
     "evalue": "name 'aaa' is not defined",
     "output_type": "error",
     "traceback": [
      "\u001b[0;31m---------------------------------------------------------------------------\u001b[0m",
      "\u001b[0;31mNameError\u001b[0m                                 Traceback (most recent call last)",
      "Cell \u001b[0;32mIn[6], line 1\u001b[0m\n\u001b[0;32m----> 1\u001b[0m \u001b[43maaa\u001b[49m\n",
      "\u001b[0;31mNameError\u001b[0m: name 'aaa' is not defined"
     ]
    }
   ],
   "source": [
    "aaa"
   ]
  },
  {
   "cell_type": "code",
   "execution_count": 7,
   "metadata": {},
   "outputs": [
    {
     "name": "stdout",
     "output_type": "stream",
     "text": [
      "Beta2AR_No0.gro finished!\n",
      "Beta2AR_No1.gro finished!\n",
      "Beta2AR_No2.gro finished!\n",
      "Beta2AR_No3.gro finished!\n",
      "Beta2AR_No4.gro finished!\n",
      "Beta2AR_No5.gro finished!\n",
      "Beta2AR_No6.gro finished!\n",
      "Beta2AR_No7.gro finished!\n",
      "Beta2AR_No8.gro finished!\n",
      "Beta2AR_No9.gro finished!\n"
     ]
    }
   ],
   "source": [
    "def NPTProcess2(strfile, top='system_Inactive.top'):\n",
    "    result = subprocess.run(f\"\"\"\n",
    "    gmx grompp -f em.mdp -c {strfile} -p {top} -o em.tpr -n index.ndx\n",
    "    echo a_209 0|gmx trjconv -s em.tpr -f {strfile} -o {strfile} -pbc atom -center -n index.ndx\n",
    "    echo 1 0|gmx trjconv -s em.tpr -f {strfile} -o {strfile} -pbc mol -center -n index.ndx\n",
    "    rm *.edr em.gro  npt.gro *.log *.tpr *.trr *.cpt  *.xtc *.pdb npt.gro em.gro mdout.mdp\n",
    "    rm *#\n",
    "                \"\"\", shell=True, stdout=subprocess.PIPE, stderr=subprocess.PIPE)\n",
    "\n",
    "    if result.returncode == 0:\n",
    "        print(f\"{strfile} finished!\")\n",
    "        pass\n",
    "    else:\n",
    "        print(f\"Error: {strfile} Return code: {result.returncode}\")\n",
    "        print(\"Standard Output:\")\n",
    "        print(result.stdout.decode())\n",
    "        print(\"Standard Error:\")\n",
    "        print(result.stderr.decode())\n",
    "\n",
    "# Set velocity (NPT process)\n",
    "for i, frame in enumerate(frames_sel):\n",
    "    NPTProcess2(f'Beta2AR_No{i}.gro', top='system_Inactive.top')\n",
    "\n",
    "\n"
   ]
  }
 ],
 "metadata": {
  "kernelspec": {
   "display_name": "base",
   "language": "python",
   "name": "python3"
  },
  "language_info": {
   "codemirror_mode": {
    "name": "ipython",
    "version": 3
   },
   "file_extension": ".py",
   "mimetype": "text/x-python",
   "name": "python",
   "nbconvert_exporter": "python",
   "pygments_lexer": "ipython3",
   "version": "3.8.12"
  }
 },
 "nbformat": 4,
 "nbformat_minor": 2
}
