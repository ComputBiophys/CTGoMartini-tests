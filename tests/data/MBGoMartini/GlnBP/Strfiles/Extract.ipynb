{
 "cells": [
  {
   "cell_type": "code",
   "execution_count": 12,
   "metadata": {},
   "outputs": [],
   "source": [
    "import os\n",
    "import subprocess\n",
    "import MDAnalysis as mda\n",
    "import numpy as np"
   ]
  },
  {
   "cell_type": "code",
   "execution_count": null,
   "metadata": {},
   "outputs": [],
   "source": [
    "# Extract the suitable strfiles\n",
    "# Data\n",
    "data_path = '/home/ys/SongYang/GoMartini3/gbp_sw/Martini3_300ns/Data/repeat-48'\n",
    "strfile = os.path.join(data_path, \"md_start.pdb\")\n",
    "trjfile_processed = os.path.join(data_path, 'md_rottrans.xtc')\n",
    "trjfile_raw = os.path.join(data_path, \"md_whole.xtc\")\n",
    "\n",
    "# Extracting Process\n",
    "u_processed = mda.Universe(strfile, trjfile_processed)\n",
    "u_raw = mda.Universe(strfile, trjfile_raw)\n",
    "\n",
    "# Calculae the distance array\n",
    "def Distance_analysis(u):\n",
    "    sel1 = u.select_atoms('name BB and resid 59')\n",
    "    sel2 = u.select_atoms('name BB and resid 130')\n",
    "    data = []\n",
    "    for ts in u.trajectory:\n",
    "        dist = np.linalg.norm(sel1.positions-sel2.positions, axis=1)[0]\n",
    "        data.append([ts.frame, ts.time, dist])\n",
    "\n",
    "    return np.array(data)\n",
    "\n",
    "dist_array = Distance_analysis(u_processed)\n",
    "dist_min = dist_array[:,2].min()\n",
    "dist_max = dist_array[:,2].max()\n",
    "\n",
    "# Get the frame according to the distance\n",
    "frames_sel = []\n",
    "for dist in np.linspace(dist_min, dist_max, 10):\n",
    "    frame_sel = np.abs(dist_array[:,2] - dist).argmin()\n",
    "    frames_sel.append(frame_sel)\n",
    "    print(frame_sel, dist_array[frame_sel, 2], dist)\n",
    "\n",
    "# Write the gro file\n",
    "for i, frame in enumerate(frames_sel):\n",
    "    u_raw.trajectory[frame]\n",
    "    u_raw.atoms.write(f'GlnBP_No{i}.gro')"
   ]
  },
  {
   "cell_type": "code",
   "execution_count": 20,
   "metadata": {},
   "outputs": [],
   "source": [
    "def NPTProcess(strfile, top='system.top', mdp='npt.mdp'):\n",
    "    result = subprocess.run(f\"\"\"\n",
    "    gmx grompp -f em.mdp -c {strfile} -p system_open.top -o em.tpr\n",
    "    gmx mdrun -deffnm em -v  -nt 8\n",
    "\n",
    "    gmx grompp -f npt.mdp -c em.gro -p system_open.top -o npt.tpr -r em.gro\n",
    "    gmx mdrun -deffnm npt -v -nt 8\n",
    "\n",
    "    echo 1 0|gmx trjconv -s npt.tpr -f npt.gro -o {strfile} -pbc mol -center\n",
    "    rm *.edr em.gro  npt.gro *.log *.tpr *.trr *.cpt  *.xtc *.pdb npt.gro em.gro mdout.mdp\n",
    "    rm *#\n",
    "                \"\"\", shell=True, stdout=subprocess.PIPE, stderr=subprocess.PIPE)\n",
    "\n",
    "    if result.returncode == 0:\n",
    "        print(f\"{strfile} finished!\")\n",
    "        pass\n",
    "    else:\n",
    "        print(f\"Error: {strfile} Return code: {result.returncode}\")\n",
    "        print(\"Standard Output:\")\n",
    "        print(result.stdout.decode())\n",
    "        print(\"Standard Error:\")\n",
    "        print(result.stderr.decode())"
   ]
  },
  {
   "cell_type": "code",
   "execution_count": 21,
   "metadata": {},
   "outputs": [],
   "source": [
    "# Set velocity (NPT process)\n",
    "for i, frame in enumerate(frames_sel):\n",
    "    NPTProcess(f'GlnBP_No{i}.gro', top='system.top', mdp='npt.mdp')\n",
    "\n",
    "\n"
   ]
  }
 ],
 "metadata": {
  "kernelspec": {
   "display_name": "ys",
   "language": "python",
   "name": "python3"
  },
  "language_info": {
   "codemirror_mode": {
    "name": "ipython",
    "version": 3
   },
   "file_extension": ".py",
   "mimetype": "text/x-python",
   "name": "python",
   "nbconvert_exporter": "python",
   "pygments_lexer": "ipython3",
   "version": "3.8.16"
  }
 },
 "nbformat": 4,
 "nbformat_minor": 2
}
