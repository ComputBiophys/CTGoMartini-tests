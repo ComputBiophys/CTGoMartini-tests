{
 "cells": [
  {
   "cell_type": "code",
   "execution_count": 1,
   "metadata": {},
   "outputs": [
    {
     "name": "stderr",
     "output_type": "stream",
     "text": [
      "Warning: importing 'simtk.openmm' is deprecated.  Import 'openmm' instead.\n"
     ]
    }
   ],
   "source": [
    "import os\n",
    "import ctgomartini as ct\n",
    "from ctgomartini.api import MartiniTopology\n",
    "from function import *\n",
    "import subprocess"
   ]
  },
  {
   "cell_type": "code",
   "execution_count": 2,
   "metadata": {},
   "outputs": [],
   "source": [
    "def Distance(p1,p2):\n",
    "    return np.linalg.norm(p1-p2)\n",
    "\n",
    "def Energy_LJ(r,sigma,epsilon, rcut=1.1):\n",
    "    C12=4*epsilon*sigma**12\n",
    "    C6=4*epsilon*sigma**6\n",
    "    \n",
    "    #step=1 if rcut >= r else 0\n",
    "    step=np.where(rcut >= r, 1, 0)\n",
    "    #energy=step*((C12/r**12-C6/r**6))\n",
    "    energy=step*((C12/r**12-C6/r**6)-(C12/rcut**12-C6/rcut**6))\n",
    "    return energy\n",
    "\n",
    "def Cal_Dist_from_atoms(atom1, atom2):\n",
    "    p1=atom1.position/10\n",
    "    p2=atom2.position/10\n",
    "    r=Distance(p1,p2)\n",
    "    return r\n",
    "\n",
    "def Cal_LJ_energy_from_atoms(atom1, atom2, sigma, epsilon, rcut=1.1):\n",
    "    r=Cal_Dist_from_atoms(atom1, atom2)\n",
    "    return Energy_LJ(r, sigma, epsilon, rcut=rcut)"
   ]
  },
  {
   "cell_type": "code",
   "execution_count": 5,
   "metadata": {},
   "outputs": [],
   "source": [
    "\n",
    "def ContactEnergyComparison(working_dir, contact_str):\n",
    "    os.chdir(os.path.join(working_dir, \"openmm1\"))\n",
    "    strfile = \"minimized.gro\"\n",
    "    topfile = \"system.top\"\n",
    "\n",
    "    simulation = OMM_setSimulation(strfile, topfile, epsilon_r=15, temperature=310.15, double_precision=True)\n",
    "    OMM_calStrfile(strfile, simulation, set_vsite=True)\n",
    "\n",
    "    omm_energy1=Load_energy(clean=True)[0][1]\n",
    "\n",
    "    os.chdir(os.path.join(working_dir, \"openmm2\"))\n",
    "    strfile = \"minimized.gro\"\n",
    "    topfile = \"system.top\"\n",
    "\n",
    "    simulation = OMM_setSimulation(strfile, topfile, epsilon_r=15, temperature=310.15, double_precision=True)\n",
    "    OMM_calStrfile(strfile, simulation, set_vsite=True)\n",
    "\n",
    "    omm_energy2=Load_energy(clean=True)[0][1]\n",
    "\n",
    "    contact = contact_str.split()\n",
    "    atomid1, atomid2 = int(contact[0]), int(contact[1])\n",
    "    sigma, epsilon = float(contact[-2]), float(contact[-1])\n",
    "    u = mda.Universe(strfile)\n",
    "    atom1, atom2 = u.atoms[atomid1-1], u.atoms[atomid2-1]\n",
    "    diff_energy = Cal_LJ_energy_from_atoms(atom1, atom2, sigma, epsilon, rcut=1.1)\n",
    "\n",
    "    print(\"diff_energy:\", omm_energy2 - omm_energy1)\n",
    "    print(\"diff_energy_cal:\", diff_energy)\n",
    "    print('abs:', np.abs((omm_energy2 - omm_energy1)-diff_energy))\n",
    "    assert np.abs((omm_energy2 - omm_energy1)-diff_energy) < 1e-5"
   ]
  },
  {
   "cell_type": "code",
   "execution_count": 6,
   "metadata": {},
   "outputs": [
    {
     "name": "stdout",
     "output_type": "stream",
     "text": [
      "diff_energy: -8.785838561321725\n",
      "diff_energy_cal: -8.785838488671113\n",
      "abs: 7.265061263694861e-08\n"
     ]
    }
   ],
   "source": [
    "\n",
    "working_dir = \"/home/ys/CommonUse/Martini/CTGoMartini/tests/data/Contacts/GlnBP_go_m3_contacts\"\n",
    "os.chdir(working_dir)\n",
    "contact_str = \"513 549 1 0.7097616382 12.0\"\n",
    "ContactEnergyComparison(working_dir, contact_str)"
   ]
  },
  {
   "cell_type": "code",
   "execution_count": null,
   "metadata": {},
   "outputs": [],
   "source": []
  }
 ],
 "metadata": {
  "kernelspec": {
   "display_name": "ys",
   "language": "python",
   "name": "python3"
  },
  "language_info": {
   "codemirror_mode": {
    "name": "ipython",
    "version": 3
   },
   "file_extension": ".py",
   "mimetype": "text/x-python",
   "name": "python",
   "nbconvert_exporter": "python",
   "pygments_lexer": "ipython3",
   "version": "3.8.16"
  },
  "orig_nbformat": 4
 },
 "nbformat": 4,
 "nbformat_minor": 2
}
