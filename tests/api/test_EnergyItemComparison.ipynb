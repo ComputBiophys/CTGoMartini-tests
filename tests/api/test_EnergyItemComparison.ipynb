{
 "cells": [
  {
   "cell_type": "code",
   "execution_count": 1,
   "metadata": {},
   "outputs": [
    {
     "name": "stderr",
     "output_type": "stream",
     "text": [
      "Warning: importing 'simtk.openmm' is deprecated.  Import 'openmm' instead.\n",
      "/home/ys/anaconda3/envs/ctgomartini_test/lib/python3.8/site-packages/tqdm/auto.py:21: TqdmWarning: IProgress not found. Please update jupyter and ipywidgets. See https://ipywidgets.readthedocs.io/en/stable/user_install.html\n",
      "  from .autonotebook import tqdm as notebook_tqdm\n"
     ]
    }
   ],
   "source": [
    "from ctgomartini.api import MartiniTopFile\n",
    "from function import *\n",
    "\n",
    "from ctgomartini.data.run_ctgomartini import gen_restraints, restraints\n",
    "\n",
    "def AddPositionRestraints(simulation):\n",
    "\n",
    "    # Add restraints\n",
    "    class inputs:\n",
    "        input = 'minimized.gro'\n",
    "        atomname = 'BB'\n",
    "        fc = 1000.0\n",
    "        rest_file = 'restraints.txt'\n",
    "        rest = 'yes'\n",
    "        gen_rest = 'yes'\n",
    "        rest_ref = 'ref.gro'\n",
    "\n",
    "    gen_restraints(inputs.input, inputs.atomname, inputs.fc, inputs.rest_file)\n",
    "    system = restraints(simulation.system, inputs)\n",
    "\n",
    "\n",
    "\n",
    "def Compare_OMM_GMX(working_dir, strfile='md.gro', topfile='system.top', epsilon_r=15.0):\n",
    "    print(working_dir)\n",
    "    os.chdir(os.path.join(working_dir, \"openmm\"))\n",
    "    # strfile = \"md.gro\"\n",
    "    # topfile = \"system.top\"\n",
    "\n",
    "    simulation = OMM_setSimulation(strfile, topfile, epsilon_r=epsilon_r, temperature=310.15, double_precision=True)\n",
    "    OMM_calStrfile(strfile, simulation, set_vsite=True)\n",
    "\n",
    "    omm_energy=Load_energy(clean=True)\n",
    "    omm_forces=Load_forces(clean=True)\n",
    "    print(omm_energy)\n",
    "    # gmx\n",
    "    os.chdir(os.path.join(working_dir, \"gmx\"))\n",
    "\n",
    "    # GMX_set(CreateMDP=False, double_precision=True)\n",
    "    # GMX_run()\n",
    "\n",
    "    gmx_energy=Load_energy(clean=False)\n",
    "    gmx_forces=Load_forces(clean=False)\n",
    "    print(gmx_energy)\n",
    "    # Compare\n",
    "    print(\"########################################\")\n",
    "    result_energy=Compare_energy(omm_energy[:,1:], gmx_energy[:,1:], isPrint=True)\n",
    "    result_forces=Compare_forces(omm_forces[:,1:], gmx_forces[:,1:], isPrint=True)\n",
    "    if not (result_energy and result_forces):\n",
    "        raise AssertionError(\"Energies or forces do not match.\")\n",
    "    \n",
    "\n",
    "class TestEnergyItemComparison:\n",
    "    \"\"\"\n",
    "    Test EnergyItemComparison\n",
    "    \"\"\"\n",
    "    # path = os.path.dirname(__file__)\n",
    "\n",
    "    def test_PullCode(self):\n",
    "        working_dir = os.path.join(self.path, \"../data/EnergyItemComparison/PullCode/GlnBP/\")\n",
    "        Compare_OMM_GMX(working_dir, epsilon_r = 15)  \n",
    "\n",
    "    def test_Constraints(self):\n",
    "        working_dir = os.path.join(self.path, \"../data/EnergyItemComparison/Constraints/GlnBP/\")\n",
    "        Compare_OMM_GMX(working_dir, epsilon_r = 15)\n",
    "    \n"
   ]
  },
  {
   "cell_type": "code",
   "execution_count": 2,
   "metadata": {},
   "outputs": [],
   "source": [
    "working_dir = '/home/ys/CommonUse/Martini/test/CTGoMartini/ctgomartini/tests/data/EnergyItemComparison/Restraints/GlnBP_Open/openmm'\n",
    "os.chdir(working_dir)"
   ]
  },
  {
   "cell_type": "code",
   "execution_count": 3,
   "metadata": {},
   "outputs": [],
   "source": [
    "simulation = OMM_setSimulation('minimized.gro', topfile='system.top', epsilon_r=15.0, temperature=310.15, double_precision=True)"
   ]
  },
  {
   "cell_type": "code",
   "execution_count": 4,
   "metadata": {},
   "outputs": [],
   "source": [
    "AddPositionRestraints(simulation)\n",
    "\n"
   ]
  },
  {
   "cell_type": "code",
   "execution_count": 5,
   "metadata": {},
   "outputs": [
    {
     "data": {
      "text/plain": [
       "[<openmm.openmm.CustomNonbondedForce; proxy of <Swig Object of type 'OpenMM::CustomNonbondedForce *' at 0x7f23612f5360> >,\n",
       " <openmm.openmm.CustomBondForce; proxy of <Swig Object of type 'OpenMM::CustomBondForce *' at 0x7f242c6f06f0> >,\n",
       " <openmm.openmm.CustomBondForce; proxy of <Swig Object of type 'OpenMM::CustomBondForce *' at 0x7f242c6f0960> >,\n",
       " <openmm.openmm.CustomBondForce; proxy of <Swig Object of type 'OpenMM::CustomBondForce *' at 0x7f23613bc9c0> >,\n",
       " <openmm.openmm.PeriodicTorsionForce; proxy of <Swig Object of type 'OpenMM::PeriodicTorsionForce *' at 0x7f23613bc900> >,\n",
       " <openmm.openmm.CustomAngleForce; proxy of <Swig Object of type 'OpenMM::CustomAngleForce *' at 0x7f23613bc360> >,\n",
       " <openmm.openmm.CustomTorsionForce; proxy of <Swig Object of type 'OpenMM::CustomTorsionForce *' at 0x7f23613bc7b0> >,\n",
       " <openmm.openmm.HarmonicBondForce; proxy of <Swig Object of type 'OpenMM::HarmonicBondForce *' at 0x7f23613bc2a0> >,\n",
       " <openmm.openmm.CustomAngleForce; proxy of <Swig Object of type 'OpenMM::CustomAngleForce *' at 0x7f23613bc240> >,\n",
       " <openmm.openmm.CMMotionRemover; proxy of <Swig Object of type 'OpenMM::CMMotionRemover *' at 0x7f23613bc1b0> >,\n",
       " <openmm.openmm.CustomExternalForce; proxy of <Swig Object of type 'OpenMM::CustomExternalForce *' at 0x7f23613bc420> >]"
      ]
     },
     "execution_count": 5,
     "metadata": {},
     "output_type": "execute_result"
    }
   ],
   "source": [
    "simulation.system.getForces()"
   ]
  },
  {
   "cell_type": "code",
   "execution_count": 6,
   "metadata": {},
   "outputs": [
    {
     "data": {
      "text/plain": [
       "<openmm.openmm.CustomExternalForce; proxy of <Swig Object of type 'OpenMM::CustomExternalForce *' at 0x7f23612f84e0> >"
      ]
     },
     "execution_count": 6,
     "metadata": {},
     "output_type": "execute_result"
    }
   ],
   "source": [
    "force = simulation.system.getForces()[-1]\n",
    "force"
   ]
  },
  {
   "cell_type": "code",
   "execution_count": 7,
   "metadata": {},
   "outputs": [
    {
     "data": {
      "text/plain": [
       "'1/2*k*periodicdistance(x, y, z, x0, y0, z0)^2;'"
      ]
     },
     "execution_count": 7,
     "metadata": {},
     "output_type": "execute_result"
    }
   ],
   "source": [
    "force.getEnergyFunction()"
   ]
  },
  {
   "cell_type": "code",
   "execution_count": 8,
   "metadata": {},
   "outputs": [
    {
     "data": {
      "text/plain": [
       "[1, (1000.0, 5.131, 1.963, 3.874)]"
      ]
     },
     "execution_count": 8,
     "metadata": {},
     "output_type": "execute_result"
    }
   ],
   "source": [
    "force.getParticleParameters(0)"
   ]
  },
  {
   "cell_type": "code",
   "execution_count": 9,
   "metadata": {},
   "outputs": [],
   "source": [
    "simulation.context.reinitialize()"
   ]
  },
  {
   "cell_type": "code",
   "execution_count": 10,
   "metadata": {},
   "outputs": [],
   "source": [
    "OMM_calStrfile(strfile='minimized.gro', simulation=simulation, set_vsite=True)\n",
    "\n",
    "omm_energy=Load_energy(clean=True)\n",
    "omm_forces=Load_forces(clean=True)"
   ]
  },
  {
   "cell_type": "code",
   "execution_count": 11,
   "metadata": {},
   "outputs": [
    {
     "name": "stdout",
     "output_type": "stream",
     "text": [
      "[[      0.         -108671.30664681]]\n"
     ]
    }
   ],
   "source": [
    "print(omm_energy)"
   ]
  },
  {
   "cell_type": "code",
   "execution_count": 12,
   "metadata": {},
   "outputs": [
    {
     "ename": "NameError",
     "evalue": "name 'aaa' is not defined",
     "output_type": "error",
     "traceback": [
      "\u001b[0;31m---------------------------------------------------------------------------\u001b[0m",
      "\u001b[0;31mNameError\u001b[0m                                 Traceback (most recent call last)",
      "Cell \u001b[0;32mIn[12], line 1\u001b[0m\n\u001b[0;32m----> 1\u001b[0m \u001b[43maaa\u001b[49m\n",
      "\u001b[0;31mNameError\u001b[0m: name 'aaa' is not defined"
     ]
    }
   ],
   "source": [
    "aaa"
   ]
  },
  {
   "cell_type": "code",
   "execution_count": null,
   "metadata": {},
   "outputs": [],
   "source": [
    "from simtk import unit as u\n",
    "from simtk import openmm as mm\n",
    "from openmm.app import *"
   ]
  },
  {
   "cell_type": "code",
   "execution_count": null,
   "metadata": {},
   "outputs": [
    {
     "data": {
      "text/plain": [
       "1"
      ]
     },
     "execution_count": 24,
     "metadata": {},
     "output_type": "execute_result"
    }
   ],
   "source": [
    "bonds = mm.CustomBondForce(\"1/2 * k * (r - r0)**2\")\n",
    "bonds.addPerBondParameter(\"k\")\n",
    "bonds.addPerBondParameter(\"r0\")"
   ]
  },
  {
   "cell_type": "code",
   "execution_count": null,
   "metadata": {},
   "outputs": [
    {
     "data": {
      "text/plain": [
       "0"
      ]
     },
     "execution_count": 25,
     "metadata": {},
     "output_type": "execute_result"
    }
   ],
   "source": [
    "bonds.addBond(0, 1, [1000, 2])"
   ]
  },
  {
   "cell_type": "code",
   "execution_count": null,
   "metadata": {},
   "outputs": [],
   "source": [
    "simulation."
   ]
  },
  {
   "cell_type": "code",
   "execution_count": null,
   "metadata": {},
   "outputs": [
    {
     "ename": "Exception",
     "evalue": "the System object does not own its corresponding OpenMM object",
     "output_type": "error",
     "traceback": [
      "\u001b[0;31m---------------------------------------------------------------------------\u001b[0m",
      "\u001b[0;31mException\u001b[0m                                 Traceback (most recent call last)",
      "Cell \u001b[0;32mIn[34], line 1\u001b[0m\n\u001b[0;32m----> 1\u001b[0m \u001b[43msimulation\u001b[49m\u001b[38;5;241;43m.\u001b[39;49m\u001b[43msystem\u001b[49m\u001b[38;5;241;43m.\u001b[39;49m\u001b[43maddForce\u001b[49m\u001b[43m(\u001b[49m\u001b[43mbonds\u001b[49m\u001b[43m)\u001b[49m\n",
      "File \u001b[0;32m~/anaconda3/envs/ctgomartini_test/lib/python3.8/site-packages/openmm/openmm.py:3191\u001b[0m, in \u001b[0;36mSystem.addForce\u001b[0;34m(self, force)\u001b[0m\n\u001b[1;32m   3188\u001b[0m \u001b[38;5;28;01mif\u001b[39;00m \u001b[38;5;129;01mnot\u001b[39;00m force\u001b[38;5;241m.\u001b[39mthisown:\n\u001b[1;32m   3189\u001b[0m     s \u001b[38;5;241m=\u001b[39m (\u001b[38;5;124m\"\u001b[39m\u001b[38;5;124mthe \u001b[39m\u001b[38;5;132;01m%s\u001b[39;00m\u001b[38;5;124m object does not own its corresponding OpenMM object\u001b[39m\u001b[38;5;124m\"\u001b[39m\n\u001b[1;32m   3190\u001b[0m          \u001b[38;5;241m%\u001b[39m \u001b[38;5;28mself\u001b[39m\u001b[38;5;241m.\u001b[39m\u001b[38;5;18m__class__\u001b[39m\u001b[38;5;241m.\u001b[39m\u001b[38;5;18m__name__\u001b[39m)\n\u001b[0;32m-> 3191\u001b[0m     \u001b[38;5;28;01mraise\u001b[39;00m \u001b[38;5;167;01mException\u001b[39;00m(s)\n\u001b[1;32m   3194\u001b[0m val \u001b[38;5;241m=\u001b[39m _openmm\u001b[38;5;241m.\u001b[39mSystem_addForce(\u001b[38;5;28mself\u001b[39m, force)\n\u001b[1;32m   3196\u001b[0m force\u001b[38;5;241m.\u001b[39mthisown\u001b[38;5;241m=\u001b[39m\u001b[38;5;241m0\u001b[39m\n",
      "\u001b[0;31mException\u001b[0m: the System object does not own its corresponding OpenMM object"
     ]
    }
   ],
   "source": [
    "simulation.system.addForce(bonds)\n"
   ]
  },
  {
   "cell_type": "code",
   "execution_count": null,
   "metadata": {},
   "outputs": [],
   "source": [
    "OMM_calStrfile(strfile='minimized.gro', simulation=simulation, set_vsite=True)\n",
    "\n",
    "omm_energy=Load_energy(clean=True)\n",
    "omm_forces=Load_forces(clean=True)"
   ]
  },
  {
   "cell_type": "code",
   "execution_count": null,
   "metadata": {},
   "outputs": [
    {
     "data": {
      "text/plain": [
       "array([[      0.        , -108671.30664681]])"
      ]
     },
     "execution_count": 42,
     "metadata": {},
     "output_type": "execute_result"
    }
   ],
   "source": [
    "omm_energy"
   ]
  }
 ],
 "metadata": {
  "kernelspec": {
   "display_name": "Python 3",
   "language": "python",
   "name": "python3"
  },
  "language_info": {
   "codemirror_mode": {
    "name": "ipython",
    "version": 3
   },
   "file_extension": ".py",
   "mimetype": "text/x-python",
   "name": "python",
   "nbconvert_exporter": "python",
   "pygments_lexer": "ipython3",
   "version": "3.8.19"
  }
 },
 "nbformat": 4,
 "nbformat_minor": 2
}
