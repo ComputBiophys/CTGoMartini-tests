{
 "cells": [
  {
   "cell_type": "code",
   "execution_count": 1,
   "metadata": {},
   "outputs": [
    {
     "name": "stderr",
     "output_type": "stream",
     "text": [
      "Warning: importing 'simtk.openmm' is deprecated.  Import 'openmm' instead.\n"
     ]
    }
   ],
   "source": [
    "from ctgomartini.api import MartiniTopFile\n",
    "import os\n",
    "import networkx as nx\n"
   ]
  },
  {
   "cell_type": "code",
   "execution_count": 2,
   "metadata": {},
   "outputs": [],
   "source": [
    "working_path = \"/home/ys/CommonUse/Martini/CTGoMartini/tests/data/UmbrellaSampling/GlnBP/openmm\"\n",
    "os.chdir(working_path)"
   ]
  },
  {
   "cell_type": "code",
   "execution_count": 3,
   "metadata": {},
   "outputs": [],
   "source": [
    "top = MartiniTopFile('system.top')\n",
    "top = top.moleculeTypes['gbp_open']._topology"
   ]
  },
  {
   "cell_type": "code",
   "execution_count": 4,
   "metadata": {},
   "outputs": [],
   "source": [
    "def isBB(atomid, top):\n",
    "    return top['atoms'][atomid-1][4] == 'BB'\n"
   ]
  },
  {
   "cell_type": "code",
   "execution_count": 14,
   "metadata": {},
   "outputs": [],
   "source": [
    "# Create a sample graph\n",
    "G = nx.Graph()\n",
    "for item in top['constraints']:\n",
    "    atomid1 = int(item[0])\n",
    "    atomid2 = int(item[1])\n",
    "    if isBB(atomid1, top) and isBB(atomid2, top):\n",
    "        G.add_edge(int(item[0]), int(item[1]))\n",
    "    #  G.add_edge(int(item[0]), int(item[1]))\n",
    "\n",
    "constraint_set = set()\n",
    "for i in list(G.nodes.keys()):\n",
    "    # Specify the starting node\n",
    "    start_node = i\n",
    "\n",
    "    # Use BFS to find nodes at a distance of 2 from the starting node\n",
    "    nodes_at_distance_2 = list(nx.single_source_shortest_path_length(G, source=start_node, cutoff=2).keys())\n",
    "\n",
    "    # Filter out nodes that are directly connected to the starting node\n",
    "    nodes_separated_by_2_bonds = [node for node in nodes_at_distance_2 if G.has_edge(start_node, node) is False and start_node != node]\n",
    "\n",
    "    for node in nodes_separated_by_2_bonds:\n",
    "        constraint_set.add(tuple(sorted([start_node, node])))"
   ]
  },
  {
   "cell_type": "code",
   "execution_count": 15,
   "metadata": {},
   "outputs": [],
   "source": [
    "bond_set = set()\n",
    "for item in top['bonds']:\n",
    "    bond_set.add(tuple(sorted([int(item[0]), int(item[1])])))\n",
    "\n",
    "angle_set = set()\n",
    "for item in top['angles']:\n",
    "    angle_set.add(tuple(sorted([int(item[0]), int(item[2])])))\n",
    "    angle_set.add(tuple(sorted([int(item[0]), int(item[1])])))\n",
    "    angle_set.add(tuple(sorted([int(item[1]), int(item[2])])))"
   ]
  },
  {
   "cell_type": "code",
   "execution_count": 16,
   "metadata": {},
   "outputs": [],
   "source": [
    "for item in constraint_set:\n",
    "    if item not in bond_set and item not in angle_set:\n",
    "        print(item)"
   ]
  },
  {
   "cell_type": "code",
   "execution_count": null,
   "metadata": {},
   "outputs": [],
   "source": [
    "aaaa"
   ]
  },
  {
   "cell_type": "code",
   "execution_count": null,
   "metadata": {},
   "outputs": [],
   "source": [
    "# Specify the starting node\n",
    "start_node = 1\n",
    "\n",
    "# Use BFS to find nodes at a distance of 2 from the starting node\n",
    "nodes_at_distance_2 = list(nx.single_source_shortest_path_length(G, source=start_node, cutoff=2).keys())\n",
    "\n",
    "# Filter out nodes that are directly connected to the starting node\n",
    "nodes_separated_by_2_bonds = [node for node in nodes_at_distance_2 if G.has_edge(start_node, node) is False and start_node != node]\n",
    "\n",
    "print(\"Nodes separated by 2 bonds from node\", start_node, \":\", nodes_separated_by_2_bonds)\n",
    "\n",
    "top['constraints']"
   ]
  },
  {
   "cell_type": "code",
   "execution_count": null,
   "metadata": {},
   "outputs": [
    {
     "data": {
      "image/png": "[encoded data removed]",
      "text/plain": [
       "<Figure size 640x480 with 1 Axes>"
      ]
     },
     "metadata": {},
     "output_type": "display_data"
    }
   ],
   "source": [
    "import networkx as nx\n",
    "\n",
    "# Create a sample graph\n",
    "G = nx.Graph()\n",
    "G.add_edges_from([(1, 2), (1, 3), (2, 4), (3, 5), (4, 6), (5, 7)])\n",
    "\n",
    "# Specify the starting node\n",
    "start_node = 1\n",
    "\n",
    "# Use BFS to find nodes at a distance of 2 from the starting node\n",
    "nodes_at_distance_2 = list(nx.single_source_shortest_path_length(G, source=start_node, cutoff=2).keys())\n",
    "\n",
    "# Filter out nodes that are directly connected to the starting node\n",
    "nodes_separated_by_2_bonds = [node for node in nodes_at_distance_2 if G.has_edge(start_node, node) is False and start_node != node]\n",
    "\n",
    "print(\"Nodes separated by 2 bonds from node\", start_node, \":\", nodes_separated_by_2_bonds)\n",
    "\n",
    "\n",
    "\n",
    "import matplotlib.pyplot as plt\n",
    "\n",
    "subax1 = plt.subplot(121)\n",
    "\n",
    "nx.draw(G, with_labels=True, font_weight='bold')\n",
    "\n"
   ]
  }
 ],
 "metadata": {
  "kernelspec": {
   "display_name": "ys",
   "language": "python",
   "name": "python3"
  },
  "language_info": {
   "codemirror_mode": {
    "name": "ipython",
    "version": 3
   },
   "file_extension": ".py",
   "mimetype": "text/x-python",
   "name": "python",
   "nbconvert_exporter": "python",
   "pygments_lexer": "ipython3",
   "version": "3.8.16"
  }
 },
 "nbformat": 4,
 "nbformat_minor": 2
}
